{
 "cells": [
  {
   "cell_type": "code",
   "execution_count": 4,
   "metadata": {
    "collapsed": true
   },
   "outputs": [],
   "source": [
    "import pandas as pd\n",
    "import numpy as np\n",
    "from sklearn.metrics import confusion_matrix\n",
    "import matplotlib.pyplot as plt\n",
    "%matplotlib inline\n"
   ]
  },
  {
   "cell_type": "code",
   "execution_count": 5,
   "metadata": {
    "collapsed": true
   },
   "outputs": [],
   "source": [
    "res = pd.read_csv('result.csv')"
   ]
  },
  {
   "cell_type": "code",
   "execution_count": 6,
   "metadata": {
    "collapsed": false
   },
   "outputs": [
    {
     "data": {
      "text/html": [
       "<div>\n",
       "<table border=\"1\" class=\"dataframe\">\n",
       "  <thead>\n",
       "    <tr style=\"text-align: right;\">\n",
       "      <th></th>\n",
       "      <th>image</th>\n",
       "      <th>fear</th>\n",
       "      <th>happy</th>\n",
       "      <th>neutral</th>\n",
       "      <th>anger</th>\n",
       "      <th>sad</th>\n",
       "    </tr>\n",
       "  </thead>\n",
       "  <tbody>\n",
       "    <tr>\n",
       "      <th>0</th>\n",
       "      <td>anger (1).jpeg</td>\n",
       "      <td>0.136133</td>\n",
       "      <td>0.358521</td>\n",
       "      <td>0.317268</td>\n",
       "      <td>0.136966</td>\n",
       "      <td>0.051111</td>\n",
       "    </tr>\n",
       "    <tr>\n",
       "      <th>1</th>\n",
       "      <td>anger (10).jpeg</td>\n",
       "      <td>0.128817</td>\n",
       "      <td>0.222784</td>\n",
       "      <td>0.136143</td>\n",
       "      <td>0.069375</td>\n",
       "      <td>0.442881</td>\n",
       "    </tr>\n",
       "    <tr>\n",
       "      <th>2</th>\n",
       "      <td>anger (100).jpeg</td>\n",
       "      <td>0.236790</td>\n",
       "      <td>0.112143</td>\n",
       "      <td>0.475546</td>\n",
       "      <td>0.091641</td>\n",
       "      <td>0.083881</td>\n",
       "    </tr>\n",
       "    <tr>\n",
       "      <th>3</th>\n",
       "      <td>anger (101).jpeg</td>\n",
       "      <td>0.349327</td>\n",
       "      <td>0.197968</td>\n",
       "      <td>0.027660</td>\n",
       "      <td>0.059322</td>\n",
       "      <td>0.365724</td>\n",
       "    </tr>\n",
       "    <tr>\n",
       "      <th>4</th>\n",
       "      <td>anger (102).jpeg</td>\n",
       "      <td>0.358879</td>\n",
       "      <td>0.033978</td>\n",
       "      <td>0.130938</td>\n",
       "      <td>0.329667</td>\n",
       "      <td>0.146538</td>\n",
       "    </tr>\n",
       "  </tbody>\n",
       "</table>\n",
       "</div>"
      ],
      "text/plain": [
       "              image      fear     happy   neutral     anger       sad\n",
       "0    anger (1).jpeg  0.136133  0.358521  0.317268  0.136966  0.051111\n",
       "1   anger (10).jpeg  0.128817  0.222784  0.136143  0.069375  0.442881\n",
       "2  anger (100).jpeg  0.236790  0.112143  0.475546  0.091641  0.083881\n",
       "3  anger (101).jpeg  0.349327  0.197968  0.027660  0.059322  0.365724\n",
       "4  anger (102).jpeg  0.358879  0.033978  0.130938  0.329667  0.146538"
      ]
     },
     "execution_count": 6,
     "metadata": {},
     "output_type": "execute_result"
    }
   ],
   "source": [
    "res.head()"
   ]
  },
  {
   "cell_type": "code",
   "execution_count": 104,
   "metadata": {
    "collapsed": false
   },
   "outputs": [],
   "source": [
    "true = res.image.map(lambda x: 1 if x.find('fear') > -1\n",
    "             else 2 if x.find('happy') > -1\n",
    "              else 3 if x.find('neutral') > -1 \n",
    "              else 0 if x.find('anger') > -1\n",
    "              else 4 )\n",
    "true_val = true.values.tolist()"
   ]
  },
  {
   "cell_type": "code",
   "execution_count": 109,
   "metadata": {
    "collapsed": false
   },
   "outputs": [
    {
     "data": {
      "text/plain": [
       "array([2, 4, 3, 4, 1, 0, 1, 4, 2, 1, 2, 1, 0, 4, 1, 2, 2, 2, 3, 4, 4, 3, 2,\n",
       "       3, 0, 1, 3, 1, 2, 0, 1, 2, 1, 1, 4, 4, 4, 0, 0, 1, 0, 2, 0, 3, 2, 1,\n",
       "       4, 1, 0, 0, 1, 3, 1, 3, 4, 1, 1, 2, 0, 3, 4, 1, 4, 2, 4, 4, 4, 1, 1,\n",
       "       0, 1, 4, 1, 0, 3, 2, 0, 3, 1, 1, 1, 1, 1, 4, 1, 1, 2, 2, 0, 4, 0, 0,\n",
       "       0, 0, 1, 0, 4, 4, 1, 0, 1, 2, 3, 1, 4, 1, 1, 3, 0, 0, 2, 0, 2, 0, 1,\n",
       "       3, 0, 0, 0, 3, 2, 0, 0, 3, 0, 0, 0, 1, 2, 0, 1, 4, 1, 0, 0, 1, 3, 4,\n",
       "       4, 1, 1, 1, 2, 0, 1, 1, 1, 4, 4, 1, 2, 1, 0, 3, 4, 3, 0, 3, 1, 2, 1,\n",
       "       2, 1, 0, 3, 0, 3, 0, 1, 4, 0, 0, 1, 1, 1, 1, 4, 1, 3, 1, 3, 1, 1, 0,\n",
       "       4, 0, 0, 1, 1, 1, 4, 3, 4, 0, 1, 1, 2, 0, 4, 1, 4, 3, 0, 1, 1, 1, 1,\n",
       "       0, 1, 3, 0, 1, 0, 1, 0, 3, 1, 1, 2, 3, 4, 1, 1, 1, 3, 0, 2, 2, 1, 4,\n",
       "       1, 1, 1, 1, 0, 1, 2, 1, 1, 3, 2, 0, 2, 2, 2, 1, 2, 2, 1, 0, 3, 3, 4,\n",
       "       1, 1, 0, 4, 1, 1, 1, 2, 1, 1, 2, 1, 4, 0, 1, 2, 2, 3, 2, 2, 3, 4, 0,\n",
       "       0, 2, 0, 1, 0, 4, 3, 2, 2, 4, 2, 2, 2, 2, 0, 0, 2, 4, 3, 2, 1, 1, 0,\n",
       "       2, 2, 0, 4, 2, 0, 0, 2, 0, 1, 2, 2, 2, 1, 2, 4, 2, 0, 2, 2, 3, 3, 2,\n",
       "       2, 2, 2, 0, 0, 3, 1, 2, 2, 4, 0, 2, 4, 2, 2, 4, 0, 2, 4, 2, 2, 4, 3,\n",
       "       2, 2, 2, 2, 4, 2, 2, 3, 1, 2, 3, 1, 1, 1, 2, 1, 2, 1, 2, 2, 2, 0, 3,\n",
       "       1, 0, 1, 4, 2, 1, 3, 3, 2, 3, 2, 3, 2, 3, 2, 2, 2, 3, 4, 2, 2, 1, 2,\n",
       "       4, 2, 2, 2, 1, 2, 2, 1, 0, 0, 1, 2, 0, 4, 0, 2, 3, 4, 0, 3, 0, 1, 4,\n",
       "       4, 0, 1, 2, 2, 0, 2, 2, 3, 1, 2, 2, 3, 2, 3, 2, 2, 2, 3, 2, 1, 2, 4,\n",
       "       1, 0, 4, 0, 0, 2, 4, 3, 2, 4, 2, 2, 0, 2, 2, 2, 3, 2, 0, 3, 4, 2, 2,\n",
       "       2, 4, 2, 2, 1, 4, 0, 0, 2, 2, 3, 1, 2, 2, 3, 1, 2, 4, 3, 2, 2, 2, 0,\n",
       "       1, 1, 2, 2, 0, 2, 2, 2, 4, 4, 2, 0, 2, 2, 1, 4, 0, 0, 0, 4, 3, 0, 1,\n",
       "       1, 2, 0, 2, 3, 2, 4, 4, 2, 3, 2, 0, 2, 4, 3, 4, 2, 3, 2, 0, 3, 2, 2,\n",
       "       3, 2, 0, 4, 0, 2, 3, 2, 0, 0, 2, 3, 1, 3, 2, 3, 3, 3, 0, 3, 3, 0, 3,\n",
       "       4, 4, 2, 4, 3, 3, 0, 0, 4, 2, 0, 3, 4, 2, 1, 0, 0, 0, 3, 3, 1, 3, 4,\n",
       "       0, 1, 3, 4, 2, 4, 3, 3, 3, 1, 1, 3, 1, 1, 0, 1, 3, 1, 3, 3, 4, 4, 3,\n",
       "       3, 1, 3, 4, 4, 0, 4, 3, 3, 1, 3, 1, 4, 3, 0, 2, 2, 4, 0, 3, 3, 1, 1,\n",
       "       2, 1, 3, 2, 3, 0, 3, 0, 2, 0, 3, 3, 4, 0, 0, 2, 0, 0, 1, 0, 4, 3, 4,\n",
       "       2, 1, 2, 1, 3, 3, 0, 1, 0, 0, 2, 1, 1, 0, 2, 4, 0, 0, 4, 4, 1, 3, 0,\n",
       "       2, 3, 4, 0, 4, 4, 0, 3, 0, 4, 4, 4, 1, 2, 2, 1, 3, 4, 3, 4, 4, 3, 4,\n",
       "       2, 3, 4, 3, 1, 1, 1, 4, 4, 4, 1, 4, 3, 0, 4, 4, 4, 3, 4, 4, 4, 1, 4,\n",
       "       4, 2, 0, 2, 2, 4, 1, 2, 4, 1, 3, 4, 4, 0, 4, 3, 0, 4, 3, 2, 0, 4, 4,\n",
       "       0, 4, 0, 2, 4, 0, 4, 4, 2, 1, 2, 1, 1, 3, 3, 1, 0, 4, 2, 4, 2, 0, 1,\n",
       "       4, 0, 3, 1, 2, 1, 2, 1], dtype=int64)"
      ]
     },
     "execution_count": 109,
     "metadata": {},
     "output_type": "execute_result"
    }
   ],
   "source": [
    "pred = res[['anger','fear','happy','neutral','sad']]\n",
    "pl = pred.values.tolist()\n",
    "prediction = np.argmax(pl,axis=1)\n",
    "prediction"
   ]
  },
  {
   "cell_type": "code",
   "execution_count": 130,
   "metadata": {
    "collapsed": true
   },
   "outputs": [],
   "source": [
    "def save_confusion_matrix(title, classes, true, pred, cmap=plt.cm.Blues,normalize=True):\n",
    "\n",
    "    # Get the confusion matrix using sklearn.\n",
    "    cm = confusion_matrix(y_true=true,\n",
    "                          y_pred=pred)\n",
    "\n",
    "    # Print the confusion matrix as text.\n",
    "    print(\"confusion matrix: \\n\", cm)\n",
    "\n",
    "    plt.imshow(cm, interpolation='nearest', cmap=cmap)\n",
    "    plt.title(title)\n",
    "    plt.colorbar()\n",
    "    tick_marks = np.arange(len(classes))\n",
    "    plt.xticks(tick_marks, classes, rotation=45)\n",
    "    plt.yticks(tick_marks, classes)\n",
    "\n",
    "    if normalize:\n",
    "        cm = np.round(cm.astype('float') / cm.sum(axis=1)[:, np.newaxis],2)\n",
    "        print(\"Normalized confusion matrix\")\n",
    "    else:\n",
    "        print('Confusion matrix, without normalization')\n",
    "\n",
    "    print(cm)\n",
    "    np.save('inception_cm.npy',cm)\n",
    "\n",
    "    thresh = cm.max() / 2.\n",
    "    for i, j in itertools.product(range(cm.shape[0]), range(cm.shape[1])):\n",
    "        plt.text(j, i, cm[i, j],\n",
    "                 horizontalalignment=\"center\",\n",
    "                 color=\"white\" if cm[i, j] > thresh else \"black\")\n",
    "\n",
    "    plt.tight_layout()\n",
    "    plt.ylabel('True label')\n",
    "    plt.xlabel('Predicted label')\n",
    "    \n",
    "    plt.savefig(title + '_metrics.eps', bbox_inches='tight', format='eps', dpi=50)\n",
    "    plt.show()"
   ]
  },
  {
   "cell_type": "code",
   "execution_count": 131,
   "metadata": {
    "collapsed": false
   },
   "outputs": [
    {
     "name": "stdout",
     "output_type": "stream",
     "text": [
      "confusion matrix: \n",
      " [[ 36  40  21  17  24]\n",
      " [ 24  57  18  16  16]\n",
      " [ 43  32 113  34  35]\n",
      " [ 28  22  20  42  19]\n",
      " [ 18  18  17  16  41]]\n",
      "Normalized confusion matrix\n",
      "[[ 0.26  0.29  0.15  0.12  0.17]\n",
      " [ 0.18  0.44  0.14  0.12  0.12]\n",
      " [ 0.17  0.12  0.44  0.13  0.14]\n",
      " [ 0.21  0.17  0.15  0.32  0.15]\n",
      " [ 0.16  0.16  0.15  0.15  0.37]]\n"
     ]
    },
    {
     "data": {
      "image/png": "[encoded data removed]",
      "text/plain": [
       "<matplotlib.figure.Figure at 0x22274475278>"
      ]
     },
     "metadata": {},
     "output_type": "display_data"
    }
   ],
   "source": [
    "from sklearn.preprocessing import LabelEncoder\n",
    "import itertools\n",
    "le = LabelEncoder()\n",
    "le.fit(['fear','happy','neutral','anger','sad'])\n",
    "le.inverse_transform([0,1,2,3,4])\n",
    "save_confusion_matrix('Inception model',le.inverse_transform([0,1,2,3,4]), true_val, prediction )"
   ]
  },
  {
   "cell_type": "code",
   "execution_count": 132,
   "metadata": {
    "collapsed": false
   },
   "outputs": [
    {
     "name": "stdout",
     "output_type": "stream",
     "text": [
      "Inception model accuracy: 37.6792698827%\n"
     ]
    }
   ],
   "source": [
    "print('Inception model accuracy: '+ str(sum((true_val - prediction) == 0)/len(true_val)*100) + '%')"
   ]
  },
  {
   "cell_type": "code",
   "execution_count": null,
   "metadata": {
    "collapsed": false
   },
   "outputs": [],
   "source": []
  },
  {
   "cell_type": "code",
   "execution_count": null,
   "metadata": {
    "collapsed": false
   },
   "outputs": [],
   "source": []
  },
  {
   "cell_type": "code",
   "execution_count": null,
   "metadata": {
    "collapsed": true
   },
   "outputs": [],
   "source": []
  }
 ],
 "metadata": {
  "kernelspec": {
   "display_name": "Python 3",
   "language": "python",
   "name": "python3"
  },
  "language_info": {
   "codemirror_mode": {
    "name": "ipython",
    "version": 3
   },
   "file_extension": ".py",
   "mimetype": "text/x-python",
   "name": "python",
   "nbconvert_exporter": "python",
   "pygments_lexer": "ipython3",
   "version": "3.5.2"
  }
 },
 "nbformat": 4,
 "nbformat_minor": 2
}
