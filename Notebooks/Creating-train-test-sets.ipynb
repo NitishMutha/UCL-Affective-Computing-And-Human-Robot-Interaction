{
 "cells": [
  {
   "cell_type": "code",
   "execution_count": 1,
   "metadata": {
    "collapsed": false
   },
   "outputs": [
    {
     "name": "stdout",
     "output_type": "stream",
     "text": [
      "emotiw_demo.ipynb                     \u001b[0m\u001b[01;34mproc_fear\u001b[0m/\r\n",
      "FaceDetectionVGG.ipynb                \u001b[01;34mproc_happy\u001b[0m/\r\n",
      "getting-EmotiW-feature-vectors.ipynb  \u001b[01;34mproc_neutral\u001b[0m/\r\n",
      "getting-VGG-feature-vectors.ipynb     \u001b[01;34mproc_sad\u001b[0m/\r\n",
      "preparing-the-dataset.ipynb           Untitled.ipynb\r\n",
      "\u001b[01;34mproc_anger\u001b[0m/\r\n"
     ]
    }
   ],
   "source": [
    "ls"
   ]
  },
  {
   "cell_type": "code",
   "execution_count": 2,
   "metadata": {
    "collapsed": true
   },
   "outputs": [],
   "source": [
    "import os"
   ]
  },
  {
   "cell_type": "code",
   "execution_count": 18,
   "metadata": {
    "collapsed": false
   },
   "outputs": [
    {
     "data": {
      "text/plain": [
       "['proc_neutral', 'proc_happy', 'proc_sad', 'proc_fear', 'proc_anger']"
      ]
     },
     "execution_count": 18,
     "metadata": {},
     "output_type": "execute_result"
    }
   ],
   "source": [
    "dirs=next(os.walk('.'))[1][1:]\n",
    "dirs"
   ]
  },
  {
   "cell_type": "code",
   "execution_count": 9,
   "metadata": {
    "collapsed": false
   },
   "outputs": [
    {
     "data": {
      "text/plain": [
       "'proc_neutral/crop'"
      ]
     },
     "execution_count": 9,
     "metadata": {},
     "output_type": "execute_result"
    }
   ],
   "source": [
    "dirs[0]+'/crop'"
   ]
  },
  {
   "cell_type": "code",
   "execution_count": 12,
   "metadata": {
    "collapsed": false
   },
   "outputs": [
    {
     "name": "stdout",
     "output_type": "stream",
     "text": [
      "656 proc_neutral\n",
      "1290 proc_happy\n",
      "551 proc_sad\n",
      "659 proc_fear\n",
      "695 proc_anger\n"
     ]
    }
   ],
   "source": [
    "file_lim=[]\n",
    "for dir in dirs:\n",
    "    c=0\n",
    "    for file in os.listdir('./'+dir+'/crop/'):\n",
    "        c+=1\n",
    "    file_lim.append(c)\n",
    "    print(c, dir)"
   ]
  },
  {
   "cell_type": "code",
   "execution_count": 17,
   "metadata": {
    "collapsed": false
   },
   "outputs": [
    {
     "data": {
      "text/plain": [
       "[524, 1032, 440, 527, 556]"
      ]
     },
     "execution_count": 17,
     "metadata": {},
     "output_type": "execute_result"
    }
   ],
   "source": [
    "train_test=[int(0.80*lim) for lim in file_lim]\n",
    "train_test"
   ]
  },
  {
   "cell_type": "code",
   "execution_count": 23,
   "metadata": {
    "collapsed": false
   },
   "outputs": [],
   "source": [
    "for idx, dir in enumerate(dirs):\n",
    "    bd='./'+dir+'/crop/'\n",
    "    for file in os.listdir(bd):\n",
    "        try:\n",
    "            if int(file.strip('.jpeg'))<=train_test[idx]:\n",
    "                os.rename(bd+file, bd+'train/'+file)\n",
    "            else:\n",
    "                os.rename(bd+file, bd+'test/'+file)\n",
    "        except ValueError: pass"
   ]
  },
  {
   "cell_type": "markdown",
   "metadata": {},
   "source": []
  },
  {
   "cell_type": "code",
   "execution_count": 22,
   "metadata": {
    "collapsed": false
   },
   "outputs": [
    {
     "name": "stdout",
     "output_type": "stream",
     "text": [
      "./.ipynb_checkpoints\n",
      "./proc_neutral\n",
      "./proc_happy\n",
      "./proc_sad\n",
      "./proc_fear\n",
      "./proc_anger\n",
      "./proc_neutral/ori\n",
      "./proc_neutral/crop\n",
      "./proc_neutral/feats\n",
      "./proc_neutral/ori/test\n",
      "./proc_neutral/ori/train\n",
      "./proc_neutral/crop/test\n",
      "./proc_neutral/crop/train\n",
      "./proc_happy/ori\n",
      "./proc_happy/crop\n",
      "./proc_happy/feats\n",
      "./proc_happy/ori/test\n",
      "./proc_happy/ori/train\n",
      "./proc_happy/crop/test\n",
      "./proc_happy/crop/train\n",
      "./proc_sad/ori\n",
      "./proc_sad/crop\n",
      "./proc_sad/feats\n",
      "./proc_sad/ori/test\n",
      "./proc_sad/ori/train\n",
      "./proc_sad/crop/test\n",
      "./proc_sad/crop/train\n",
      "./proc_fear/ori\n",
      "./proc_fear/crop\n",
      "./proc_fear/feats\n",
      "./proc_fear/ori/test\n",
      "./proc_fear/ori/train\n",
      "./proc_fear/crop/test\n",
      "./proc_fear/crop/train\n",
      "./proc_anger/ori\n",
      "./proc_anger/crop\n",
      "./proc_anger/feats\n",
      "./proc_anger/ori/test\n",
      "./proc_anger/ori/train\n",
      "./proc_anger/crop/test\n",
      "./proc_anger/crop/train\n"
     ]
    }
   ],
   "source": [
    "for dirname, dirnames, filenames in os.walk('.'):\n",
    "    # print path to all subdirectories first.\n",
    "    for subdirname in dirnames:\n",
    "        print(os.path.join(dirname, subdirname))"
   ]
  },
  {
   "cell_type": "code",
   "execution_count": null,
   "metadata": {
    "collapsed": true
   },
   "outputs": [],
   "source": []
  }
 ],
 "metadata": {
  "kernelspec": {
   "display_name": "Python 3",
   "language": "python",
   "name": "python3"
  },
  "language_info": {
   "codemirror_mode": {
    "name": "ipython",
    "version": 3
   },
   "file_extension": ".py",
   "mimetype": "text/x-python",
   "name": "python",
   "nbconvert_exporter": "python",
   "pygments_lexer": "ipython3",
   "version": "3.5.2"
  }
 },
 "nbformat": 4,
 "nbformat_minor": 2
}
