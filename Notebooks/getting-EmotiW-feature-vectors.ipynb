{
 "cells": [
  {
   "cell_type": "code",
   "execution_count": 1,
   "metadata": {
    "collapsed": true,
    "deletable": true,
    "editable": true
   },
   "outputs": [],
   "source": [
    "import numpy as np\n",
    "import cv2\n",
    "%matplotlib inline\n",
    "%config InlineBackend.figure_format='retina'\n",
    "import matplotlib.pyplot as plt\n",
    "import matplotlib.image as mpimg\n",
    "import os\n",
    "from tqdm import tqdm\n",
    "rdmod = '/home/charles/Documents/UCL/ACHRI/models/EmotiW/' \n",
    "\n",
    "from skimage import transform\n",
    "model = rdmod+'deploy.txt'\n",
    "weights = rdmod+'EmotiW_VGG_S.caffemodel'\n",
    "\n",
    "caffe_root = '~/Downloads/caffe-master/' \n",
    "\n",
    "import sys\n",
    "sys.path.insert(0, caffe_root + 'python')\n",
    "import caffe\n"
   ]
  },
  {
   "cell_type": "code",
   "execution_count": 10,
   "metadata": {
    "collapsed": true
   },
   "outputs": [],
   "source": [
    "mean_filename='./mean.binaryproto'\n",
    "proto_data = open(rdmod+mean_filename, \"rb\").read()\n",
    "a = caffe.io.caffe_pb2.BlobProto.FromString(proto_data)\n",
    "mean = caffe.io.blobproto_to_array(a)[0]\n",
    "categories = [ 'Angry' , 'Disgust' , 'Fear' , 'Happy'  , 'Neutral' ,  'Sad' , 'Surprise']"
   ]
  },
  {
   "cell_type": "code",
   "execution_count": 47,
   "metadata": {
    "collapsed": false,
    "deletable": true,
    "editable": true
   },
   "outputs": [
    {
     "name": "stdout",
     "output_type": "stream",
     "text": [
      "(1, 3, 224, 224)\n"
     ]
    }
   ],
   "source": [
    "VGG_S_Net = caffe.Classifier(model, weights, mean=mean, channel_swap=(2,1,0), raw_scale=255, image_dims=(256, 256))"
   ]
  },
  {
   "cell_type": "code",
   "execution_count": 6,
   "metadata": {
    "collapsed": false
   },
   "outputs": [
    {
     "name": "stdout",
     "output_type": "stream",
     "text": [
      "emotiw_demo.ipynb                     \u001b[0m\u001b[01;34mproc_anger\u001b[0m/\r\n",
      "FaceDetectionVGG.ipynb                \u001b[01;34mproc_fear\u001b[0m/\r\n",
      "getting-EmotiW-feature-vectors.ipynb  \u001b[01;34mproc_happy\u001b[0m/\r\n",
      "getting-VGG-feature-vectors.ipynb     \u001b[01;34mproc_neutral\u001b[0m/\r\n",
      "preparing-the-dataset.ipynb           \u001b[01;34mproc_sad\u001b[0m/\r\n"
     ]
    }
   ],
   "source": [
    "ls"
   ]
  },
  {
   "cell_type": "code",
   "execution_count": 36,
   "metadata": {
    "collapsed": false
   },
   "outputs": [
    {
     "data": {
      "text/plain": [
       "<matplotlib.image.AxesImage at 0x7fe03bed4470>"
      ]
     },
     "execution_count": 36,
     "metadata": {},
     "output_type": "execute_result"
    },
    {
     "data": {
      "image/png": "[encoded data removed]",
      "text/plain": [
       "<matplotlib.figure.Figure at 0x7fe03bf974a8>"
      ]
     },
     "metadata": {
      "image/png": {
       "height": 250,
       "width": 195
      }
     },
     "output_type": "display_data"
    }
   ],
   "source": [
    "example_image='./proc_anger/crop/11.jpeg'\n",
    "input_image = caffe.io.load_image(example_image)\n",
    "#imgP = transform.resize(input_image, (256, 256, 3))\n",
    "plt.imshow(input_image)"
   ]
  },
  {
   "cell_type": "code",
   "execution_count": 37,
   "metadata": {
    "collapsed": false,
    "deletable": true,
    "editable": true
   },
   "outputs": [
    {
     "name": "stdout",
     "output_type": "stream",
     "text": [
      "Angry        0.99\n",
      "Disgust      0.01\n",
      "Fear         0.00\n",
      "Happy        0.00\n",
      "Neutral      0.00\n",
      "Sad          0.00\n",
      "Surprise     0.00\n",
      "\n",
      "predicted category is Angry 0.990573\n"
     ]
    }
   ],
   "source": [
    "prediction = VGG_S_Net.predict([input_image],oversample=False)\n",
    "for idx, cat in enumerate(categories):\n",
    "    print('{:12} {:.2f}'.format(cat, prediction[0][idx]))\n",
    "print('')\n",
    "print('predicted category is {0}'.format(categories[prediction.argmax()]), prediction[0].max())"
   ]
  },
  {
   "cell_type": "code",
   "execution_count": 44,
   "metadata": {
    "collapsed": false
   },
   "outputs": [
    {
     "data": {
      "text/plain": [
       "(1, 4048)"
      ]
     },
     "execution_count": 44,
     "metadata": {},
     "output_type": "execute_result"
    }
   ],
   "source": [
    ".data.shape"
   ]
  },
  {
   "cell_type": "code",
   "execution_count": 54,
   "metadata": {
    "collapsed": false
   },
   "outputs": [
    {
     "name": "stdout",
     "output_type": "stream",
     "text": [
      "(1, 3, 224, 224)\n"
     ]
    }
   ],
   "source": [
    "VGG_S_Net = caffe.Classifier(model, weights, mean=mean, channel_swap=(2,1,0), raw_scale=255, image_dims=(256, 256))"
   ]
  },
  {
   "cell_type": "code",
   "execution_count": 55,
   "metadata": {
    "collapsed": true,
    "deletable": true,
    "editable": true
   },
   "outputs": [],
   "source": [
    "tp = './proc_fear/crop/'\n",
    "tp_ = './proc_fear/feats/'"
   ]
  },
  {
   "cell_type": "code",
   "execution_count": 56,
   "metadata": {
    "collapsed": false,
    "deletable": true,
    "editable": true,
    "scrolled": false
   },
   "outputs": [
    {
     "name": "stderr",
     "output_type": "stream",
     "text": [
      "\n",
      "  0%|          | 0/659 [00:00<?, ?it/s]\u001b[A\n",
      "  0%|          | 1/659 [00:00<07:04,  1.55it/s]\u001b[A\n",
      "  0%|          | 2/659 [00:01<06:48,  1.61it/s]\u001b[A\n",
      "  1%|          | 4/659 [00:02<06:38,  1.64it/s]\u001b[A\n",
      "100%|██████████| 659/659 [06:20<00:00,  1.74it/s]"
     ]
    },
    {
     "name": "stdout",
     "output_type": "stream",
     "text": [
      "!!!------FINISHED-----!!!\n"
     ]
    },
    {
     "name": "stderr",
     "output_type": "stream",
     "text": [
      "\n"
     ]
    }
   ],
   "source": [
    "tot=len([name for name in os.listdir(tp)])\n",
    "count=0\n",
    "feats=np.zeros((tot,4048))\n",
    "for file in tqdm(os.listdir(tp)):\n",
    "    id=int(file.strip('.jpeg'))\n",
    "    input_image = caffe.io.load_image(tp+file)\n",
    "    prediction = VGG_S_Net.predict([input_image],oversample=False)\n",
    "    feat=VGG_S_Net.blobs['fc7']\n",
    "    feats[id-1,:] =feat.data[0]\n",
    "    count+=1\n",
    "print('!!!------FINISHED-----!!!')"
   ]
  },
  {
   "cell_type": "code",
   "execution_count": 57,
   "metadata": {
    "collapsed": false,
    "deletable": true,
    "editable": true
   },
   "outputs": [],
   "source": [
    "np.save(tp_+'emo.npy', feats)"
   ]
  },
  {
   "cell_type": "code",
   "execution_count": 58,
   "metadata": {
    "collapsed": false
   },
   "outputs": [
    {
     "name": "stdout",
     "output_type": "stream",
     "text": [
      "(1, 3, 224, 224)\n"
     ]
    }
   ],
   "source": [
    "VGG_S_Net = caffe.Classifier(model, weights, mean=mean, channel_swap=(2,1,0), raw_scale=255, image_dims=(256, 256))"
   ]
  },
  {
   "cell_type": "code",
   "execution_count": 59,
   "metadata": {
    "collapsed": true
   },
   "outputs": [],
   "source": [
    "tp = './proc_anger/crop/'\n",
    "tp_ = './proc_anger/feats/'"
   ]
  },
  {
   "cell_type": "code",
   "execution_count": 60,
   "metadata": {
    "collapsed": false
   },
   "outputs": [
    {
     "name": "stderr",
     "output_type": "stream",
     "text": [
      "100%|██████████| 695/695 [06:46<00:00,  1.71it/s]"
     ]
    },
    {
     "name": "stdout",
     "output_type": "stream",
     "text": [
      "!!!------FINISHED-----!!!\n"
     ]
    },
    {
     "name": "stderr",
     "output_type": "stream",
     "text": [
      "\n"
     ]
    }
   ],
   "source": [
    "tot=len([name for name in os.listdir(tp)])\n",
    "count=0\n",
    "feats=np.zeros((tot,4048))\n",
    "for file in tqdm(os.listdir(tp)):\n",
    "    id=int(file.strip('.jpeg'))\n",
    "    input_image = caffe.io.load_image(tp+file)\n",
    "    prediction = VGG_S_Net.predict([input_image],oversample=False)\n",
    "    feat=VGG_S_Net.blobs['fc7']\n",
    "    feats[id-1,:] =feat.data[0]\n",
    "    count+=1\n",
    "print('!!!------FINISHED-----!!!')"
   ]
  },
  {
   "cell_type": "code",
   "execution_count": 61,
   "metadata": {
    "collapsed": true
   },
   "outputs": [],
   "source": [
    "np.save(tp_+'emo.npy', feats)"
   ]
  },
  {
   "cell_type": "code",
   "execution_count": 62,
   "metadata": {
    "collapsed": false
   },
   "outputs": [
    {
     "name": "stdout",
     "output_type": "stream",
     "text": [
      "(1, 3, 224, 224)\n"
     ]
    }
   ],
   "source": [
    "VGG_S_Net = caffe.Classifier(model, weights, mean=mean, channel_swap=(2,1,0), raw_scale=255, image_dims=(256, 256))"
   ]
  },
  {
   "cell_type": "code",
   "execution_count": 63,
   "metadata": {
    "collapsed": true
   },
   "outputs": [],
   "source": [
    "tp = './proc_sad/crop/'\n",
    "tp_ = './proc_sad/feats/'"
   ]
  },
  {
   "cell_type": "code",
   "execution_count": 64,
   "metadata": {
    "collapsed": false
   },
   "outputs": [
    {
     "name": "stderr",
     "output_type": "stream",
     "text": [
      "100%|██████████| 551/551 [05:23<00:00,  1.70it/s]"
     ]
    },
    {
     "name": "stdout",
     "output_type": "stream",
     "text": [
      "!!!------FINISHED-----!!!\n"
     ]
    },
    {
     "name": "stderr",
     "output_type": "stream",
     "text": [
      "\n"
     ]
    }
   ],
   "source": [
    "tot=len([name for name in os.listdir(tp)])\n",
    "count=0\n",
    "feats=np.zeros((tot,4048))\n",
    "for file in tqdm(os.listdir(tp)):\n",
    "    id=int(file.strip('.jpeg'))\n",
    "    input_image = caffe.io.load_image(tp+file)\n",
    "    prediction = VGG_S_Net.predict([input_image],oversample=False)\n",
    "    feat=VGG_S_Net.blobs['fc7']\n",
    "    feats[id-1,:] =feat.data[0]\n",
    "    count+=1\n",
    "print('!!!------FINISHED-----!!!')"
   ]
  },
  {
   "cell_type": "code",
   "execution_count": 65,
   "metadata": {
    "collapsed": true
   },
   "outputs": [],
   "source": [
    "np.save(tp_+'emo.npy', feats)"
   ]
  },
  {
   "cell_type": "code",
   "execution_count": 66,
   "metadata": {
    "collapsed": false
   },
   "outputs": [
    {
     "name": "stdout",
     "output_type": "stream",
     "text": [
      "(1, 3, 224, 224)\n"
     ]
    }
   ],
   "source": [
    "VGG_S_Net = caffe.Classifier(model, weights, mean=mean, channel_swap=(2,1,0), raw_scale=255, image_dims=(256, 256))"
   ]
  },
  {
   "cell_type": "code",
   "execution_count": 67,
   "metadata": {
    "collapsed": true,
    "deletable": true,
    "editable": true
   },
   "outputs": [],
   "source": [
    "tp = './proc_neutral/crop/'\n",
    "tp_ = './proc_neutral/feats/'"
   ]
  },
  {
   "cell_type": "code",
   "execution_count": 68,
   "metadata": {
    "collapsed": false,
    "deletable": true,
    "editable": true
   },
   "outputs": [
    {
     "name": "stderr",
     "output_type": "stream",
     "text": [
      "100%|██████████| 656/656 [06:10<00:00,  1.78it/s]"
     ]
    },
    {
     "name": "stdout",
     "output_type": "stream",
     "text": [
      "!!!------FINISHED-----!!!\n"
     ]
    },
    {
     "name": "stderr",
     "output_type": "stream",
     "text": [
      "\n"
     ]
    }
   ],
   "source": [
    "tot=len([name for name in os.listdir(tp)])\n",
    "count=0\n",
    "feats=np.zeros((tot,4048))\n",
    "for file in tqdm(os.listdir(tp)):\n",
    "    id=int(file.strip('.jpeg'))\n",
    "    input_image = caffe.io.load_image(tp+file)\n",
    "    prediction = VGG_S_Net.predict([input_image],oversample=False)\n",
    "    feat=VGG_S_Net.blobs['fc7']\n",
    "    feats[id-1,:] =feat.data[0]\n",
    "    count+=1\n",
    "print('!!!------FINISHED-----!!!')"
   ]
  },
  {
   "cell_type": "code",
   "execution_count": 69,
   "metadata": {
    "collapsed": true,
    "deletable": true,
    "editable": true
   },
   "outputs": [],
   "source": [
    "np.save(tp_+'emo.npy', feats)"
   ]
  },
  {
   "cell_type": "code",
   "execution_count": 70,
   "metadata": {
    "collapsed": false
   },
   "outputs": [
    {
     "name": "stdout",
     "output_type": "stream",
     "text": [
      "(1, 3, 224, 224)\n"
     ]
    }
   ],
   "source": [
    "VGG_S_Net = caffe.Classifier(model, weights, mean=mean, channel_swap=(2,1,0), raw_scale=255, image_dims=(256, 256))"
   ]
  },
  {
   "cell_type": "code",
   "execution_count": 71,
   "metadata": {
    "collapsed": true,
    "deletable": true,
    "editable": true
   },
   "outputs": [],
   "source": [
    "tp = './proc_happy/crop/'\n",
    "tp_ = './proc_happy/feats/'"
   ]
  },
  {
   "cell_type": "code",
   "execution_count": 72,
   "metadata": {
    "collapsed": false
   },
   "outputs": [
    {
     "name": "stderr",
     "output_type": "stream",
     "text": [
      "100%|██████████| 1290/1290 [12:15<00:00,  1.63it/s]"
     ]
    },
    {
     "name": "stdout",
     "output_type": "stream",
     "text": [
      "!!!------FINISHED-----!!!\n"
     ]
    },
    {
     "name": "stderr",
     "output_type": "stream",
     "text": [
      "\n"
     ]
    }
   ],
   "source": [
    "tot=len([name for name in os.listdir(tp)])\n",
    "count=0\n",
    "feats=np.zeros((tot,4048))\n",
    "for file in tqdm(os.listdir(tp)):\n",
    "    id=int(file.strip('.jpeg'))\n",
    "    input_image = caffe.io.load_image(tp+file)\n",
    "    prediction = VGG_S_Net.predict([input_image],oversample=False)\n",
    "    feat=VGG_S_Net.blobs['fc7']\n",
    "    feats[id-1,:] =feat.data[0]\n",
    "    count+=1\n",
    "print('!!!------FINISHED-----!!!')"
   ]
  },
  {
   "cell_type": "code",
   "execution_count": 73,
   "metadata": {
    "collapsed": true
   },
   "outputs": [],
   "source": [
    "np.save(tp_+'emo.npy', feats)"
   ]
  },
  {
   "cell_type": "code",
   "execution_count": null,
   "metadata": {
    "collapsed": true
   },
   "outputs": [],
   "source": []
  },
  {
   "cell_type": "code",
   "execution_count": null,
   "metadata": {
    "collapsed": true
   },
   "outputs": [],
   "source": []
  },
  {
   "cell_type": "code",
   "execution_count": null,
   "metadata": {
    "collapsed": true
   },
   "outputs": [],
   "source": []
  },
  {
   "cell_type": "code",
   "execution_count": null,
   "metadata": {
    "collapsed": true
   },
   "outputs": [],
   "source": []
  },
  {
   "cell_type": "code",
   "execution_count": null,
   "metadata": {
    "collapsed": true
   },
   "outputs": [],
   "source": []
  },
  {
   "cell_type": "code",
   "execution_count": null,
   "metadata": {
    "collapsed": true
   },
   "outputs": [],
   "source": []
  },
  {
   "cell_type": "code",
   "execution_count": null,
   "metadata": {
    "collapsed": true
   },
   "outputs": [],
   "source": []
  },
  {
   "cell_type": "code",
   "execution_count": null,
   "metadata": {
    "collapsed": true
   },
   "outputs": [],
   "source": []
  },
  {
   "cell_type": "code",
   "execution_count": null,
   "metadata": {
    "collapsed": true
   },
   "outputs": [],
   "source": []
  },
  {
   "cell_type": "code",
   "execution_count": null,
   "metadata": {
    "collapsed": true
   },
   "outputs": [],
   "source": []
  }
 ],
 "metadata": {
  "kernelspec": {
   "display_name": "Python 3",
   "language": "python",
   "name": "python3"
  },
  "language_info": {
   "codemirror_mode": {
    "name": "ipython",
    "version": 3
   },
   "file_extension": ".py",
   "mimetype": "text/x-python",
   "name": "python",
   "nbconvert_exporter": "python",
   "pygments_lexer": "ipython3",
   "version": "3.5.2"
  }
 },
 "nbformat": 4,
 "nbformat_minor": 2
}
