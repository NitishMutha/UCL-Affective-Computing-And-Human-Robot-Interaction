{
 "cells": [
  {
   "cell_type": "markdown",
   "metadata": {
    "deletable": true,
    "editable": true
   },
   "source": [
    "# Preparing the Dataset"
   ]
  },
  {
   "cell_type": "code",
   "execution_count": 1,
   "metadata": {
    "collapsed": true,
    "deletable": true,
    "editable": true
   },
   "outputs": [],
   "source": [
    "import numpy as np\n",
    "import cv2\n",
    "%matplotlib inline\n",
    "%config InlineBackend.figure_format='retina'\n",
    "import matplotlib.pyplot as plt\n",
    "import matplotlib.image as mpimg\n",
    "import os\n",
    "\n",
    "rdhaar='/home/charles/opencv/data/haarcascades/'\n",
    "rdmod = '/media/charles/1TB/Users/Charles Olivier/Downloads/ACHRI Models/vgg_face_caffe/'\n",
    "\n",
    "from skimage import transform\n",
    "model = rdmod+'VGG_FACE_deploy.prototxt'\n",
    "weights = rdmod+'VGG_FACE.caffemodel'\n",
    "# change this to your install dir\n",
    "caffe_root = '~/Downloads/caffe-master/' \n",
    "import sys\n",
    "sys.path.insert(0, caffe_root + 'python')\n",
    "import caffe\n",
    "mean = np.array([129.1863,104.7624,93.5940])"
   ]
  },
  {
   "cell_type": "code",
   "execution_count": 2,
   "metadata": {
    "collapsed": true,
    "deletable": true,
    "editable": true
   },
   "outputs": [],
   "source": [
    "def rgb2gray(rgb):\n",
    "    return np.dot(rgb[...,:3], [0.299, 0.587, 0.114])\n",
    "def detect_face(img, thresh):\n",
    "    faces = face_cascade.detectMultiScale(img, thresh, 1)\n",
    "    try:\n",
    "        f =faces.shape[0]==1\n",
    "        return f, faces\n",
    "    except AttributeError:\n",
    "        return 0, ()"
   ]
  },
  {
   "cell_type": "markdown",
   "metadata": {
    "deletable": true,
    "editable": true
   },
   "source": [
    "### Let's extract some faces\n",
    "\n",
    "We will save the original image and the cropped faces in two different folders."
   ]
  },
  {
   "cell_type": "code",
   "execution_count": 29,
   "metadata": {
    "collapsed": false,
    "deletable": true,
    "editable": true
   },
   "outputs": [
    {
     "name": "stdout",
     "output_type": "stream",
     "text": [
      "Percentage dataset converted: 617/711 = 0.87\n"
     ]
    }
   ],
   "source": [
    "rdimg='./sad/'\n",
    "tdir='./proc_sad/'\n",
    "face_cascade = cv2.CascadeClassifier(rdhaar+'haarcascade_frontalface_default.xml')\n",
    "eye_cascade = cv2.CascadeClassifier(rdhaar+'haarcascade_eye.xml')\n",
    "pos_count=0\n",
    "tot_count=0\n",
    "num=0\n",
    "for file in os.listdir(rdimg):\n",
    "    file_path=os.path.join(rdimg, file)\n",
    "    tot_count+=1\n",
    "    img = cv2.imread(file_path, 0)\n",
    "    if img.shape:\n",
    "        f=0\n",
    "        thresh=1.4 \n",
    "        while(f!=1 and thresh>1.0):\n",
    "            f, faces = detect_face(img, thresh)\n",
    "            thresh-=0.05\n",
    "\n",
    "        if f==1:\n",
    "            pos_count+=1\n",
    "            for (x,y,w,h) in faces:\n",
    "                img = cv2.imread(file_path, 1)\n",
    "                dim=np.array([y-int(0.3*h),y+int(h*1.2), x-int(0.05*w),x+int(w*1.05)])\n",
    "                dim[dim<0]=0\n",
    "                crop_img = img[dim[0]:dim[1], dim[2]:dim[3],:]\n",
    "                \n",
    "                cv2.imwrite(tdir+'ori/'+str(num)+'.jpeg', img)\n",
    "                cv2.imwrite(tdir+'crop/'+str(num)+'.jpeg', crop_img)\n",
    "                num+=1\n",
    "        else: continue\n",
    "\n",
    "print('Percentage dataset converted: %d/%d = %.2f'%(pos_count, tot_count, pos_count/float(tot_count)))"
   ]
  },
  {
   "cell_type": "markdown",
   "metadata": {
    "collapsed": true,
    "deletable": true,
    "editable": true
   },
   "source": [
    "### Cleanup\n",
    "Go through cropped faces manually and delete the failed ones. The script below will delete the corresponding originals in the second folder, as well as rename the files."
   ]
  },
  {
   "cell_type": "code",
   "execution_count": 30,
   "metadata": {
    "collapsed": true,
    "deletable": true,
    "editable": true
   },
   "outputs": [],
   "source": [
    "f=[]\n",
    "for file in os.listdir(tdir+'crop'):\n",
    "    f.append(file)"
   ]
  },
  {
   "cell_type": "code",
   "execution_count": 31,
   "metadata": {
    "collapsed": false,
    "deletable": true,
    "editable": true
   },
   "outputs": [
    {
     "name": "stdout",
     "output_type": "stream",
     "text": [
      "%d files removed 66\n"
     ]
    }
   ],
   "source": [
    "rm=0\n",
    "for file in os.listdir(tdir+'ori'):\n",
    "    if file not in f:\n",
    "        os.remove(tdir+'ori/'+file)\n",
    "        rm+=1\n",
    "print('%d files removed', rm)"
   ]
  },
  {
   "cell_type": "code",
   "execution_count": 32,
   "metadata": {
    "collapsed": true,
    "deletable": true,
    "editable": true
   },
   "outputs": [],
   "source": [
    "f=[]\n",
    "for file in os.listdir(tdir+'crop'):\n",
    "    f.append(file)"
   ]
  },
  {
   "cell_type": "code",
   "execution_count": 33,
   "metadata": {
    "collapsed": false,
    "deletable": true,
    "editable": true
   },
   "outputs": [],
   "source": [
    "# rename files\n",
    "name_count=0\n",
    "for file in os.listdir(tdir+'crop'):\n",
    "    os.rename(tdir+'crop/'+file, tdir+'crop/'+str(name_count)+'_.jpeg')\n",
    "    os.rename(tdir+'ori/'+file, tdir+'ori/'+str(name_count)+'_.jpeg')\n",
    "    name_count+=1"
   ]
  },
  {
   "cell_type": "code",
   "execution_count": 34,
   "metadata": {
    "collapsed": true,
    "deletable": true,
    "editable": true
   },
   "outputs": [],
   "source": [
    "name_count=0\n",
    "for file in os.listdir(tdir+'crop'):\n",
    "    os.rename(tdir+'crop/'+file, tdir+'crop/'+str(name_count)+'.jpeg')\n",
    "    os.rename(tdir+'ori/'+file, tdir+'ori/'+str(name_count)+'.jpeg')\n",
    "    name_count+=1"
   ]
  },
  {
   "cell_type": "code",
   "execution_count": null,
   "metadata": {
    "collapsed": true,
    "deletable": true,
    "editable": true
   },
   "outputs": [],
   "source": [
    "\n"
   ]
  }
 ],
 "metadata": {
  "kernelspec": {
   "display_name": "Python 3",
   "language": "python",
   "name": "python3"
  },
  "language_info": {
   "codemirror_mode": {
    "name": "ipython",
    "version": 3
   },
   "file_extension": ".py",
   "mimetype": "text/x-python",
   "name": "python",
   "nbconvert_exporter": "python",
   "pygments_lexer": "ipython3",
   "version": "3.5.2"
  }
 },
 "nbformat": 4,
 "nbformat_minor": 2
}
